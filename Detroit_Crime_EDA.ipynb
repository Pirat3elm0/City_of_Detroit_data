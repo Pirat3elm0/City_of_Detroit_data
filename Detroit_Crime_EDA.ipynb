{
 "cells": [
  {
   "cell_type": "markdown",
   "metadata": {},
   "source": [
    "DSE 6000 Project 1\n",
    "Hannah McQuade\n",
    "gk6387\n",
    "\n",
    "Initial question: Does the type of building permit issued increase or decrease the crime in the area?\n",
    "\n",
    "This was the question I went into these datasets with, but I did not end up answering it. I found other questions about the data that I explored. Now that I am more comfortable with python and visualization tools, I will want to visit this quesiton again when I have more time to dedicate to it."
   ]
  },
  {
   "cell_type": "code",
   "execution_count": 2,
   "metadata": {},
   "outputs": [
    {
     "name": "stdout",
     "output_type": "stream",
     "text": [
      "<class 'pandas.core.frame.DataFrame'>\n",
      "RangeIndex: 234978 entries, 0 to 234977\n",
      "Data columns (total 11 columns):\n",
      "ROWNUM                   234978 non-null int64\n",
      "CATEGORY                 234978 non-null object\n",
      "OFFENSEDESCRIPTION       234978 non-null object\n",
      "STATEOFFENSEFILECLASS    234978 non-null int64\n",
      "INCIDENTDATE             234978 non-null object\n",
      "HOUR                     234978 non-null int64\n",
      "SCA                      233849 non-null float64\n",
      "PRECINCT                 233849 non-null float64\n",
      "NEIGHBORHOOD             233402 non-null object\n",
      "CENSUSTRACT              217425 non-null float64\n",
      "LOCATION                 234978 non-null object\n",
      "dtypes: float64(3), int64(3), object(5)\n",
      "memory usage: 19.7+ MB\n",
      "None\n",
      "             ROWNUM  STATEOFFENSEFILECLASS           HOUR            SCA  \\\n",
      "count  2.349780e+05          234978.000000  234978.000000  233849.000000   \n",
      "mean   1.603119e+06           20353.919056      12.902140     750.331436   \n",
      "std    1.674553e+05            4666.118002       6.878887     741.607836   \n",
      "min    1.147796e+06            9001.000000       0.000000     101.000000   \n",
      "25%    1.456609e+06           13002.000000       8.000000     410.000000   \n",
      "50%    1.600912e+06           23002.000000      14.000000     711.000000   \n",
      "75%    1.744744e+06           23007.000000      19.000000    1002.000000   \n",
      "max    1.940733e+06           30002.000000      23.000000    9999.000000   \n",
      "\n",
      "            PRECINCT   CENSUSTRACT  \n",
      "count  233849.000000  2.174250e+05  \n",
      "mean        7.435679  4.162771e+06  \n",
      "std         7.355671  1.787055e+07  \n",
      "min         1.000000  0.000000e+00  \n",
      "25%         4.000000  5.136000e+03  \n",
      "50%         7.000000  5.316000e+03  \n",
      "75%        10.000000  5.407000e+03  \n",
      "max        99.000000  9.999202e+07  \n",
      "<class 'pandas.core.frame.DataFrame'>\n",
      "RangeIndex: 50269 entries, 0 to 50268\n",
      "Data columns (total 53 columns):\n",
      "PERMIT_NO                 50269 non-null object\n",
      "PERMIT_ISSUED             49597 non-null datetime64[ns]\n",
      "PERMIT_COMPLETED          18635 non-null object\n",
      "PERMIT_EXPIRES            49468 non-null object\n",
      "SITE_ADDRESS              50262 non-null object\n",
      "PERMIT_STATUS             0 non-null float64\n",
      "BETWEEN1                  50269 non-null object\n",
      "PARCEL_NO                 50269 non-null object\n",
      "LOT_NUMBER                47853 non-null object\n",
      "SUBDIVISION               48078 non-null object\n",
      "CASE_TYPE                 50269 non-null object\n",
      "CASE_DESCRIPTION          50269 non-null object\n",
      "LEGAL_USE                 47926 non-null object\n",
      "ESTIMATED_COST            34145 non-null object\n",
      "PARCEL_SIZE               49110 non-null float64\n",
      "PARCEL_CLUSTER_SECTOR     49582 non-null float64\n",
      "STORIES                   10945 non-null float64\n",
      "PARCEL_FLOOR_AREA         49106 non-null float64\n",
      "PARCEL_GROUND_AREA        49106 non-null float64\n",
      "PRC_AKA_ADDRESS           6642 non-null object\n",
      "BLD_PERMIT_TYPE           49644 non-null object\n",
      "BLD_PERMIT_DESC           49151 non-null object\n",
      "FDICN_DESCRIPTION         50269 non-null object\n",
      "BLD_TYPE_USE              49290 non-null object\n",
      "RESIDENTIAL               50269 non-null object\n",
      "BLD_TYPE_CONST_COD        45759 non-null object\n",
      "BLD_ZONING_DIST           41720 non-null object\n",
      "BLD_USE_GROUP             44288 non-null object\n",
      "BLD_BASEMENT              7441 non-null object\n",
      "FEE_TYPE                  50269 non-null object\n",
      "SEQ_NO                    50269 non-null int64\n",
      "CSF_CREATED_BY            0 non-null float64\n",
      "PCF_AMT_DUE               50269 non-null object\n",
      "OWNER_LAST_NAME           48658 non-null object\n",
      "OWNER_FIRST_NAME          23449 non-null object\n",
      "OWNER_ADDRESS1            47800 non-null object\n",
      "OWNER_ADDRESS2            10669 non-null object\n",
      "OWNER_CITY                50269 non-null object\n",
      "OWNER_STATE               50269 non-null object\n",
      "OWNER_ZIP                 3236 non-null object\n",
      "CONTRACTOR_LAST_NAME      41231 non-null object\n",
      "CONTRACTOR_FIRST_NAME     9302 non-null object\n",
      "CONTRACTOR_ADDRESS1       40976 non-null object\n",
      "CONTRACTOR_ADDRESS2       6263 non-null object\n",
      "CONTRACTOR_CITY           41226 non-null object\n",
      "CONTRACTOR_STATE          41226 non-null object\n",
      "CONTRACTOR_ZIP            1938 non-null object\n",
      "site_location             50269 non-null object\n",
      "owner_location            50269 non-null object\n",
      "contractor_location       41227 non-null object\n",
      "CSM_CASENO                0 non-null float64\n",
      "CONDITION_FOR_APPROVAL    0 non-null float64\n",
      "PERMITNO_FEETYPE          0 non-null float64\n",
      "dtypes: datetime64[ns](1), float64(10), int64(1), object(41)\n",
      "memory usage: 20.3+ MB\n",
      "None\n",
      "       PERMIT_STATUS   PARCEL_SIZE  PARCEL_CLUSTER_SECTOR       STORIES  \\\n",
      "count            0.0  4.911000e+04           49582.000000  10945.000000   \n",
      "mean             NaN  3.011055e+05               5.298294      2.096903   \n",
      "std              NaN  2.864065e+07               2.789323      3.001824   \n",
      "min              NaN  0.000000e+00               1.000000      0.000000   \n",
      "25%              NaN  3.920000e+03               3.000000      1.000000   \n",
      "50%              NaN  4.792000e+03               5.000000      2.000000   \n",
      "75%              NaN  6.752000e+03               8.000000      2.000000   \n",
      "max              NaN  4.116452e+09              10.000000     56.000000   \n",
      "\n",
      "       PARCEL_FLOOR_AREA  PARCEL_GROUND_AREA   SEQ_NO  CSF_CREATED_BY  \\\n",
      "count       4.910600e+04        49106.000000  50269.0             0.0   \n",
      "mean        4.074706e+04          635.609192      1.0             NaN   \n",
      "std         5.320998e+05         1157.053681      0.0             NaN   \n",
      "min         0.000000e+00            0.000000      1.0             NaN   \n",
      "25%         0.000000e+00            0.000000      1.0             NaN   \n",
      "50%         0.000000e+00          720.000000      1.0             NaN   \n",
      "75%         0.000000e+00          896.000000      1.0             NaN   \n",
      "max         3.928734e+07        32000.000000      1.0             NaN   \n",
      "\n",
      "       CSM_CASENO  CONDITION_FOR_APPROVAL  PERMITNO_FEETYPE  \n",
      "count         0.0                     0.0               0.0  \n",
      "mean          NaN                     NaN               NaN  \n",
      "std           NaN                     NaN               NaN  \n",
      "min           NaN                     NaN               NaN  \n",
      "25%           NaN                     NaN               NaN  \n",
      "50%           NaN                     NaN               NaN  \n",
      "75%           NaN                     NaN               NaN  \n",
      "max           NaN                     NaN               NaN  \n"
     ]
    }
   ],
   "source": [
    "import pandas as pd\n",
    "\n",
    "import seaborn as sns\n",
    "import matplotlib.pyplot as plt\n",
    "%matplotlib inline\n",
    "\n",
    "det_crime = pd.read_csv(\"datasets/DPD__Reported_Major_Crimes__2011-2014.csv\")\n",
    "det_build_permits = pd.read_csv('datasets/Building_Permits.csv', parse_dates=[1])\n",
    "\n",
    "print(det_crime.info())\n",
    "print(det_crime.describe())\n",
    "print(det_build_permits.info())\n",
    "print(det_build_permits.describe())\n"
   ]
  },
  {
   "cell_type": "code",
   "execution_count": 3,
   "metadata": {},
   "outputs": [
    {
     "data": {
      "text/plain": [
       "<matplotlib.axes._subplots.AxesSubplot at 0x1a1e209b898>"
      ]
     },
     "execution_count": 3,
     "metadata": {},
     "output_type": "execute_result"
    },
    {
     "data": {
      "image/png": "[encoded data removed]",
      "text/plain": [
       "<matplotlib.figure.Figure at 0x1a1e4e6db70>"
      ]
     },
     "metadata": {},
     "output_type": "display_data"
    }
   ],
   "source": [
    "crime_HR = det_crime['HOUR']\n",
    "crime_cat = det_crime['CATEGORY']\n",
    "det_crime['INCIDENTYEAR'] = pd.to_datetime(det_crime['INCIDENTDATE']).dt.year\n",
    "fig=plt.figure(1,figsize=(11,6)) #set size of figure to be created\n",
    "sns.boxplot(x=\"CATEGORY\", y = \"HOUR\", hue = \"INCIDENTYEAR\", data=det_crime, width=0.5)"
   ]
  },
  {
   "cell_type": "markdown",
   "metadata": {},
   "source": [
    "At first I made a box plot per category, which showed burglary had lower median time of happening during the day than any other category. Then I split it by year to see if there was a year trend, but burlary did not change quartiles at all. I look into that more below.\n",
    "\n",
    "This plot also shows that all crimes happen at all times of the day. I found it interesting that 50% of the homicides and stolen vehicles happen between the hours of 8 pm and 4am. The other categories have more condensed spreads around the middle of the day."
   ]
  },
  {
   "cell_type": "code",
   "execution_count": 4,
   "metadata": {},
   "outputs": [
    {
     "data": {
      "text/html": [
       "<div>\n",
       "<style>\n",
       "    .dataframe thead tr:only-child th {\n",
       "        text-align: right;\n",
       "    }\n",
       "\n",
       "    .dataframe thead th {\n",
       "        text-align: left;\n",
       "    }\n",
       "\n",
       "    .dataframe tbody tr th {\n",
       "        vertical-align: top;\n",
       "    }\n",
       "</style>\n",
       "<table border=\"1\" class=\"dataframe\">\n",
       "  <thead>\n",
       "    <tr style=\"text-align: right;\">\n",
       "      <th></th>\n",
       "      <th>CATEGORY</th>\n",
       "      <th>INCIDENTYEAR</th>\n",
       "      <th>ROWNUM</th>\n",
       "      <th>STATEOFFENSEFILECLASS</th>\n",
       "      <th>HOUR</th>\n",
       "      <th>SCA</th>\n",
       "      <th>PRECINCT</th>\n",
       "      <th>CENSUSTRACT</th>\n",
       "    </tr>\n",
       "  </thead>\n",
       "  <tbody>\n",
       "    <tr>\n",
       "      <th>0</th>\n",
       "      <td>AGGRAVATED ASSAULT</td>\n",
       "      <td>2011</td>\n",
       "      <td>1.390344e+06</td>\n",
       "      <td>13002.000000</td>\n",
       "      <td>12.558451</td>\n",
       "      <td>761.593360</td>\n",
       "      <td>7.549026</td>\n",
       "      <td>4.176457e+05</td>\n",
       "    </tr>\n",
       "    <tr>\n",
       "      <th>1</th>\n",
       "      <td>AGGRAVATED ASSAULT</td>\n",
       "      <td>2012</td>\n",
       "      <td>1.543520e+06</td>\n",
       "      <td>13002.000000</td>\n",
       "      <td>12.990228</td>\n",
       "      <td>772.272131</td>\n",
       "      <td>7.655738</td>\n",
       "      <td>6.820529e+06</td>\n",
       "    </tr>\n",
       "    <tr>\n",
       "      <th>2</th>\n",
       "      <td>AGGRAVATED ASSAULT</td>\n",
       "      <td>2013</td>\n",
       "      <td>1.694950e+06</td>\n",
       "      <td>13002.000000</td>\n",
       "      <td>12.721839</td>\n",
       "      <td>784.143586</td>\n",
       "      <td>7.772598</td>\n",
       "      <td>1.587641e+06</td>\n",
       "    </tr>\n",
       "    <tr>\n",
       "      <th>3</th>\n",
       "      <td>AGGRAVATED ASSAULT</td>\n",
       "      <td>2014</td>\n",
       "      <td>1.833166e+06</td>\n",
       "      <td>13002.000000</td>\n",
       "      <td>12.723970</td>\n",
       "      <td>766.096379</td>\n",
       "      <td>7.594644</td>\n",
       "      <td>7.722829e+06</td>\n",
       "    </tr>\n",
       "    <tr>\n",
       "      <th>4</th>\n",
       "      <td>BURGLARY</td>\n",
       "      <td>2011</td>\n",
       "      <td>1.397614e+06</td>\n",
       "      <td>22001.081733</td>\n",
       "      <td>12.176947</td>\n",
       "      <td>759.611449</td>\n",
       "      <td>7.529847</td>\n",
       "      <td>3.303109e+05</td>\n",
       "    </tr>\n",
       "    <tr>\n",
       "      <th>5</th>\n",
       "      <td>BURGLARY</td>\n",
       "      <td>2012</td>\n",
       "      <td>1.548059e+06</td>\n",
       "      <td>22001.091573</td>\n",
       "      <td>12.128478</td>\n",
       "      <td>754.585488</td>\n",
       "      <td>7.480673</td>\n",
       "      <td>6.435553e+06</td>\n",
       "    </tr>\n",
       "    <tr>\n",
       "      <th>6</th>\n",
       "      <td>BURGLARY</td>\n",
       "      <td>2013</td>\n",
       "      <td>1.695530e+06</td>\n",
       "      <td>22001.085712</td>\n",
       "      <td>12.268940</td>\n",
       "      <td>759.077030</td>\n",
       "      <td>7.525303</td>\n",
       "      <td>1.982318e+06</td>\n",
       "    </tr>\n",
       "    <tr>\n",
       "      <th>7</th>\n",
       "      <td>BURGLARY</td>\n",
       "      <td>2014</td>\n",
       "      <td>1.833597e+06</td>\n",
       "      <td>22001.102843</td>\n",
       "      <td>12.245538</td>\n",
       "      <td>749.648483</td>\n",
       "      <td>7.432353</td>\n",
       "      <td>8.765903e+06</td>\n",
       "    </tr>\n",
       "    <tr>\n",
       "      <th>8</th>\n",
       "      <td>HOMICIDE</td>\n",
       "      <td>2011</td>\n",
       "      <td>1.395859e+06</td>\n",
       "      <td>9001.000000</td>\n",
       "      <td>11.772334</td>\n",
       "      <td>717.346821</td>\n",
       "      <td>7.115607</td>\n",
       "      <td>2.060636e+05</td>\n",
       "    </tr>\n",
       "    <tr>\n",
       "      <th>9</th>\n",
       "      <td>HOMICIDE</td>\n",
       "      <td>2012</td>\n",
       "      <td>1.551843e+06</td>\n",
       "      <td>9001.000000</td>\n",
       "      <td>11.887755</td>\n",
       "      <td>748.071429</td>\n",
       "      <td>7.418367</td>\n",
       "      <td>8.694270e+06</td>\n",
       "    </tr>\n",
       "  </tbody>\n",
       "</table>\n",
       "</div>"
      ],
      "text/plain": [
       "             CATEGORY  INCIDENTYEAR        ROWNUM  STATEOFFENSEFILECLASS  \\\n",
       "0  AGGRAVATED ASSAULT          2011  1.390344e+06           13002.000000   \n",
       "1  AGGRAVATED ASSAULT          2012  1.543520e+06           13002.000000   \n",
       "2  AGGRAVATED ASSAULT          2013  1.694950e+06           13002.000000   \n",
       "3  AGGRAVATED ASSAULT          2014  1.833166e+06           13002.000000   \n",
       "4            BURGLARY          2011  1.397614e+06           22001.081733   \n",
       "5            BURGLARY          2012  1.548059e+06           22001.091573   \n",
       "6            BURGLARY          2013  1.695530e+06           22001.085712   \n",
       "7            BURGLARY          2014  1.833597e+06           22001.102843   \n",
       "8            HOMICIDE          2011  1.395859e+06            9001.000000   \n",
       "9            HOMICIDE          2012  1.551843e+06            9001.000000   \n",
       "\n",
       "        HOUR         SCA  PRECINCT   CENSUSTRACT  \n",
       "0  12.558451  761.593360  7.549026  4.176457e+05  \n",
       "1  12.990228  772.272131  7.655738  6.820529e+06  \n",
       "2  12.721839  784.143586  7.772598  1.587641e+06  \n",
       "3  12.723970  766.096379  7.594644  7.722829e+06  \n",
       "4  12.176947  759.611449  7.529847  3.303109e+05  \n",
       "5  12.128478  754.585488  7.480673  6.435553e+06  \n",
       "6  12.268940  759.077030  7.525303  1.982318e+06  \n",
       "7  12.245538  749.648483  7.432353  8.765903e+06  \n",
       "8  11.772334  717.346821  7.115607  2.060636e+05  \n",
       "9  11.887755  748.071429  7.418367  8.694270e+06  "
      ]
     },
     "execution_count": 4,
     "metadata": {},
     "output_type": "execute_result"
    },
    {
     "data": {
      "image/png": "[encoded data removed]",
      "text/plain": [
       "<matplotlib.figure.Figure at 0x1a1df527358>"
      ]
     },
     "metadata": {},
     "output_type": "display_data"
    }
   ],
   "source": [
    "fig=plt.figure(1,figsize=(11,6)) #set size of figure to be created\n",
    "sns.countplot(x=\"CATEGORY\", hue=\"INCIDENTYEAR\",data = det_crime, palette=\"Reds_d\")\n",
    "crime_counts=det_crime.groupby(['CATEGORY', 'INCIDENTYEAR'], as_index=False).count()\n",
    "crime_means=det_crime.groupby(['CATEGORY', 'INCIDENTYEAR'], as_index=False).mean()\n",
    "crime_means.head(10)"
   ]
  },
  {
   "cell_type": "markdown",
   "metadata": {},
   "source": [
    "I was surprised by the vast difference in count of homicides compared to the other crime categories. I attribute this to hearing on the news about homicides as often or more than aggrevated assult for instance. That bias made me think that , in the category of homicide at least, Detroit was worse off than it actually is.\n",
    "\n",
    "You can also see from this graph how the number of incidents is decreasing over the years. This is a very good sign."
   ]
  },
  {
   "cell_type": "code",
   "execution_count": 5,
   "metadata": {},
   "outputs": [
    {
     "data": {
      "text/plain": [
       "<matplotlib.axes._subplots.AxesSubplot at 0x1a1dc2c8908>"
      ]
     },
     "execution_count": 5,
     "metadata": {},
     "output_type": "execute_result"
    },
    {
     "data": {
      "image/png": "[encoded data removed]",
      "text/plain": [
       "<matplotlib.figure.Figure at 0x1a1d6778c50>"
      ]
     },
     "metadata": {},
     "output_type": "display_data"
    }
   ],
   "source": [
    "crime_Burglary = det_crime[crime_cat =='BURGLARY']\n",
    "sns.countplot(x=\"HOUR\", hue=\"INCIDENTYEAR\", data = crime_Burglary, palette=\"Blues_d\")\n"
   ]
  },
  {
   "cell_type": "markdown",
   "metadata": {},
   "source": [
    "Since burglaries was the only crime category which median and other quartiles did not change over the years, I wanted to look into it more in-depth. This graph shows that the total crimes have been decreasing the same amount over all of the hours of the day, not just in one area, which is why the quartile values did not change."
   ]
  },
  {
   "cell_type": "code",
   "execution_count": 6,
   "metadata": {
    "collapsed": true
   },
   "outputs": [],
   "source": [
    "det_build_permits['ISSUED_YEAR'] = pd.to_datetime(det_build_permits['PERMIT_ISSUED']).dt.year\n",
    "det_build_permits['ISSUED_MONTH'] = pd.to_datetime(det_build_permits['PERMIT_ISSUED']).dt.month\n",
    "build_type_top = det_build_permits.groupby(['BLD_TYPE_USE'],as_index=False).count().sort_values(['PERMIT_NO'], ascending=False);\n",
    "build_type_top_list=build_type_top.iloc[0:3,0]"
   ]
  },
  {
   "cell_type": "code",
   "execution_count": 7,
   "metadata": {
    "collapsed": true
   },
   "outputs": [],
   "source": [
    "\n",
    "build_type_flt = det_build_permits.loc[det_build_permits['BLD_TYPE_USE'].isin(build_type_top_list)]\n",
    "build_type_grp = build_type_flt.groupby(['BLD_TYPE_USE', 'ISSUED_YEAR'],as_index=False).count().sort_values(['ISSUED_YEAR'], ascending=False);\n"
   ]
  },
  {
   "cell_type": "code",
   "execution_count": 8,
   "metadata": {},
   "outputs": [
    {
     "data": {
      "text/plain": [
       "<seaborn.axisgrid.FacetGrid at 0x1a1d6782080>"
      ]
     },
     "execution_count": 8,
     "metadata": {},
     "output_type": "execute_result"
    },
    {
     "data": {
      "image/png": "[encoded data removed]",
      "text/plain": [
       "<matplotlib.figure.Figure at 0x1a1d6782908>"
      ]
     },
     "metadata": {},
     "output_type": "display_data"
    }
   ],
   "source": [
    "sns.lmplot(x='ISSUED_YEAR', y='PERMIT_NO', hue='BLD_TYPE_USE', fit_reg=False, data=build_type_grp)"
   ]
  },
  {
   "cell_type": "markdown",
   "metadata": {},
   "source": [
    "One family dwellings account for the largest number of building permits issued over the past 7 years. The good news is that the count is increasing. 2017 is not complete yet, so I would want to run this same analysis with complete 2017 data. I would also want to see where the building permits are from year to year, and if any particular area is on the raise in popularity. If I were an investor, I might want to look at buying property in that area."
   ]
  },
  {
   "cell_type": "code",
   "execution_count": 9,
   "metadata": {},
   "outputs": [
    {
     "name": "stdout",
     "output_type": "stream",
     "text": [
      "Changing this format:\n",
      "0    20040 ST AUBIN ST\\nDETROIT, MI 48234-1252\\n(42...\n",
      "1    17596 WARRINGTON\\nDETROIT, MI\\n(42.422342, -83...\n",
      "2                 DETROIT, MI\\n(42.332916, -83.047853)\n",
      "3    19338 DEAN ST\\nDETROIT, MI 48234-2004\\n(42.436...\n",
      "4    6821 GRANDMONT\\nDETROIT, MI\\n(42.341621, -83.2...\n",
      "Name: owner_location, dtype: object\n",
      "To this:\n",
      "    Latitude  Longitude\n",
      "0  42.442205 -83.081986\n",
      "1  42.422342 -83.139644\n",
      "2  42.332916 -83.047853\n",
      "3  42.436331 -83.062262\n",
      "4  42.341621 -83.208501\n"
     ]
    }
   ],
   "source": [
    "#Splitting the Location columns for both data sets into Latitude and Longitude\n",
    "\n",
    "det_crime_location=pd.DataFrame(det_crime['LOCATION'].str.split('(', expand=True))\n",
    "det_crime_location2=pd.DataFrame(det_crime_location[1].str.split(')', expand=True))\n",
    "det_crime_location3=pd.DataFrame(det_crime_location2[0].str.split(',', expand=True))\n",
    "det_crime_location3.columns=[ 'Latitude','Longitude']\n",
    "det_crime_location3['Longitude']=pd.to_numeric(det_crime_location3['Longitude'], errors='coerce')\n",
    "det_crime_location3['Latitude']=pd.to_numeric(det_crime_location3['Latitude'], errors='coerce')\n",
    "\n",
    "#Then adding just those columns back to the data set\n",
    "det_crime_location3=det_crime_location3.set_index(det_crime.index)\n",
    "det_crime_location3=det_crime_location3.fillna(0)\n",
    "det_crime['Latitude']= det_crime_location3.iloc[:,0].values\n",
    "det_crime['Longitude']= det_crime_location3.iloc[:,1].values\n",
    "\n",
    "bp_loc=pd.DataFrame(det_build_permits['owner_location'].str.split('(', expand=True))\n",
    "bp_loc2=pd.DataFrame(bp_loc[1].str.split(')', expand=True))\n",
    "bp_loc3=pd.DataFrame(bp_loc2[0].str.split(',', expand=True))\n",
    "bp_loc3.columns=['Latitude','Longitude']\n",
    "bp_loc3['Longitude']=pd.to_numeric(bp_loc3['Longitude'], errors='coerce')\n",
    "bp_loc3['Latitude']=pd.to_numeric(bp_loc3['Latitude'], errors='coerce')\n",
    "\n",
    "bp_loc3=bp_loc3.set_index(det_build_permits.index)\n",
    "bp_loc3=bp_loc3.fillna(0)\n",
    "det_build_permits['Latitude']= bp_loc3.iloc[:,0].values\n",
    "det_build_permits['Longitude']= bp_loc3.iloc[:,1].values\n",
    "\n",
    "print('Changing this format:')\n",
    "print(det_build_permits['owner_location'].head(5))\n",
    "print('To this:')\n",
    "print(bp_loc3.head(5))"
   ]
  },
  {
   "cell_type": "markdown",
   "metadata": {},
   "source": [
    "I could definitely do this block more efficiently, but this was how I got it working. I was having trouble working with the location columns in the entire dataset, so I made a copy of just that column to work with. Then adding it back in with numeric and string values (since not all rows had coordinates) was problematic. Cleaning the data is extremely important and as I found out here, more difficult than it may seem."
   ]
  },
  {
   "cell_type": "code",
   "execution_count": 10,
   "metadata": {},
   "outputs": [
    {
     "data": {
      "text/plain": [
       "<seaborn.axisgrid.FacetGrid at 0x1a1da9713c8>"
      ]
     },
     "execution_count": 10,
     "metadata": {},
     "output_type": "execute_result"
    },
    {
     "data": {
      "image/png": "[encoded data removed]",
      "text/plain": [
       "<matplotlib.figure.Figure at 0x1a1dd7e4080>"
      ]
     },
     "metadata": {},
     "output_type": "display_data"
    }
   ],
   "source": [
    "category='BURGLARY'\n",
    "#category='HOMICIDE'\n",
    "#Filter out the 0s in Lat/Long\n",
    "\n",
    "det_crime_coord_flt=det_crime.loc[(det_crime['Latitude']>42) &(det_crime['Longitude']<-80)&(det_crime['Longitude']>-84)]\n",
    "det_crime_coord_cat=det_crime_coord_flt.loc[(det_crime_coord_flt['CATEGORY']==category)]\n",
    "sns.lmplot(x='Longitude', y='Latitude', hue='CATEGORY', data=det_crime_coord_cat, fit_reg=False)"
   ]
  },
  {
   "cell_type": "markdown",
   "metadata": {},
   "source": [
    "Homicide is the easiest scatter plot to view beause it has the least number of incidents. When I graphed the other categories, however, there seemed to be a clear line at about 42.45 Latitude. Since it's hoizontal, I figure this might be a road. 8 mile is at 42.448 lat, which is a good candidate. 9 mile is at 42.463 lat. My further investigation question is why is there this line in the data? Does crime really decrease that much north of 9 mile? Or were the reports based on where they were filed? Most being filed took place within the juristiction of Detroit, but possibly others that were filed took place in the suburbs.\n",
    "\n"
   ]
  },
  {
   "cell_type": "code",
   "execution_count": 11,
   "metadata": {
    "collapsed": true
   },
   "outputs": [],
   "source": [
    "import pygal\n",
    "from pygal.style import LightStyle"
   ]
  },
  {
   "cell_type": "code",
   "execution_count": 12,
   "metadata": {
    "collapsed": true
   },
   "outputs": [],
   "source": [
    "crime_cnts=det_crime.groupby(['CATEGORY'], as_index=False).count().sort_values('ROWNUM', ascending=False)\n",
    "\n",
    "bar_chart_human=pygal.Bar(style=LightStyle, width=1000, height=700,\n",
    "                   legend_at_bottom=True, human_readable=True,\n",
    "                   title='Crime count by category (Human Readable=True)')\n",
    "bar_chart_nonhuman=pygal.Bar(style=LightStyle, width=1000, height=700,\n",
    "                   legend_at_bottom=True, human_readable=False,\n",
    "                   title='Crime count by category (Human Readable=False)')\n",
    "for index,row in crime_cnts.iterrows():\n",
    "    bar_chart_human.add(row[\"CATEGORY\"], row[\"ROWNUM\"])\n",
    "    bar_chart_nonhuman.add(row[\"CATEGORY\"], row[\"ROWNUM\"])\n",
    " \n",
    "bar_chart_human.render_to_file('datasets/crime_human.svg')\n",
    "bar_chart_nonhuman.render_to_file('datasets/crime_non.svg')"
   ]
  },
  {
   "cell_type": "markdown",
   "metadata": {},
   "source": [
    "Setting the style and legends up before hand then calling that layout seems to be a theme in the other visualization packages. Good for repeating charts with same formats. I didn't find pygal extrememly useful over seaborn, but it was easier to figure out how to make the figure larger (width and height dimensions)."
   ]
  },
  {
   "cell_type": "markdown",
   "metadata": {},
   "source": [
    "Conclusion: The number of incidents of crime (tracked in this data set) is decreasing from 2011-2014, with homicides being the lowest count out of all the other categories. The time of day the crimes take place spread out throughout the day, but 50% of burglaries seem to take place between the hours of 9am-5pm. Plotting the crime incidents by cateogy by location reveals that there is a cut off at a certain latitude (probably an east to west road). I'm pretty sure this just means that north of it is not Detroit's juristiction and the other outliers are reported due to special circumstances. I would want to investigate this further. People are getting more and more building permits overall from 2011-2014, especially one family dwellings. This is a good sign, most likely indicating that people are trying to build and move back into Detroit.\n",
    "\n",
    "Additional questions: 1) did the other crimes result in some kind of killing? 2) What is the definition of \"homicide\" vs manslaughter? Is that distinction caught in the data? 3) what is the percentage of building permits to what is actually built? Is that 100%? 4) Looking at building permits vs crime rate months or years later in that same area. 5) See if the number of crime incidents still falling from 2015-2017. 6) Does mugging count as robbery?"
   ]
  }
 ],
 "metadata": {
  "kernelspec": {
   "display_name": "Python 3",
   "language": "python",
   "name": "python3"
  },
  "language_info": {
   "codemirror_mode": {
    "name": "ipython",
    "version": 3
   },
   "file_extension": ".py",
   "mimetype": "text/x-python",
   "name": "python",
   "nbconvert_exporter": "python",
   "pygments_lexer": "ipython3",
   "version": "3.6.4"
  }
 },
 "nbformat": 4,
 "nbformat_minor": 2
}
